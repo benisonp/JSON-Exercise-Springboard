{
 "cells": [
  {
   "cell_type": "code",
   "execution_count": 71,
   "metadata": {},
   "outputs": [],
   "source": [
    "import pandas as pd\n",
    "import json\n",
    "\n",
    "from pandas.io.json import json_normalize"
   ]
  },
  {
   "cell_type": "code",
   "execution_count": 104,
   "metadata": {},
   "outputs": [
    {
     "name": "stdout",
     "output_type": "stream",
     "text": [
      "Countries with most projects:  Niger Sao Tome and Principe Kyrgyz Republic Tajikistan Jordan Tunisia Indonesia Mongolia Afghanistan Rwanda\n"
     ]
    }
   ],
   "source": [
    "#Question 1 - Top 10 Countries by number of projects\n",
    "df = pd.read_json('data/world_bank_projects.json')\n",
    "num_projects = [len(i) for i in df['mjtheme_namecode']] # Number of projects per row i.e. per country\n",
    "df['Number of Projects'] = num_projects\n",
    "df_sorted = df.sort_values(by=['Number of Projects'], ascending=False)\n",
    "most_projects = [country for country in df_sorted['countryshortname'][0:10]] # List comprehension for top 10 countries\n",
    "print(\"Countries with most projects: \", *most_projects)"
   ]
  },
  {
   "cell_type": "code",
   "execution_count": 185,
   "metadata": {},
   "outputs": [
    {
     "name": "stdout",
     "output_type": "stream",
     "text": [
      "                                           Name  count\n",
      "0  Environment and natural resources management    250\n",
      "1                             Rural development    216\n",
      "2                             Human development    210\n",
      "3                      Public sector governance    199\n",
      "4         Social protection and risk management    168\n",
      "5      Financial and private sector development    146\n",
      "6                   Social dev/gender/inclusion    130\n",
      "7                         Trade and integration     77\n",
      "8                             Urban development     50\n",
      "9                           Economic management     38\n"
     ]
    }
   ],
   "source": [
    "### Question 2 - Top 10 project themes\n",
    "data = json.load((open('data/world_bank_projects.json')))\n",
    "df_namecodes = json_normalize(data, 'mjtheme_namecode')\n",
    "\n",
    "# Dictionary of code-name pairs\n",
    "code_dict = dict(zip(df_namecodes['code'], df_namecodes['name']))\n",
    "code_dict['1'] = 'Economic management'\n",
    "code_dict['6'] = 'Social protection and risk management'\n",
    "\n",
    "df_namecodes['Name'] = df_namecodes['code'].map(code_dict) #Filling in blank 'name' cells\n",
    "\n",
    "by_namecodes = df_namecodes.groupby('Name')\n",
    "count_by_name = by_namecodes['Name'].count().reset_index(name=\"count\")\n",
    "count_by_name_sorted = count_by_name.sort_values(by=\"count\", ascending=False).reset_index()\n",
    "\n",
    "# Top 10 project themes\n",
    "print(count_by_name_sorted[['Name', 'count']][0:10])"
   ]
  },
  {
   "cell_type": "code",
   "execution_count": 187,
   "metadata": {},
   "outputs": [],
   "source": [
    "# Question 3 - Create dataframe with blanks filled in - Answered as part of Q2."
   ]
  },
  {
   "cell_type": "code",
   "execution_count": null,
   "metadata": {},
   "outputs": [],
   "source": []
  }
 ],
 "metadata": {
  "kernelspec": {
   "display_name": "Python 3",
   "language": "python",
   "name": "python3"
  },
  "language_info": {
   "codemirror_mode": {
    "name": "ipython",
    "version": 3
   },
   "file_extension": ".py",
   "mimetype": "text/x-python",
   "name": "python",
   "nbconvert_exporter": "python",
   "pygments_lexer": "ipython3",
   "version": "3.7.1"
  }
 },
 "nbformat": 4,
 "nbformat_minor": 2
}
